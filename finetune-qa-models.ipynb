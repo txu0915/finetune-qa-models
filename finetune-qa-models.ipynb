{
 "cells": [
  {
   "cell_type": "code",
   "execution_count": 109,
   "id": "05617b95-3258-4af3-b2a0-283fafcc9f3c",
   "metadata": {},
   "outputs": [],
   "source": [
    "# gs://ds_tianlong/prepared_files_for_amir\n",
    "import pandas as pd\n",
    "import numpy as np\n",
    "from google.cloud import bigquery"
   ]
  },
  {
   "cell_type": "code",
   "execution_count": 70,
   "id": "140e13f8-37bf-4526-b7c1-41f76e251928",
   "metadata": {},
   "outputs": [],
   "source": [
    "myData = pd.read_csv('2021_10_20_products_series_labelled.csv')"
   ]
  },
  {
   "cell_type": "code",
   "execution_count": 6,
   "id": "5084aae9-106a-4647-ac48-f18d38e51ad4",
   "metadata": {},
   "outputs": [
    {
     "data": {
      "text/html": [
       "<div>\n",
       "<style scoped>\n",
       "    .dataframe tbody tr th:only-of-type {\n",
       "        vertical-align: middle;\n",
       "    }\n",
       "\n",
       "    .dataframe tbody tr th {\n",
       "        vertical-align: top;\n",
       "    }\n",
       "\n",
       "    .dataframe thead th {\n",
       "        text-align: right;\n",
       "    }\n",
       "</style>\n",
       "<table border=\"1\" class=\"dataframe\">\n",
       "  <thead>\n",
       "    <tr style=\"text-align: right;\">\n",
       "      <th></th>\n",
       "      <th>omsid</th>\n",
       "      <th>product_name</th>\n",
       "      <th>description</th>\n",
       "      <th>brand</th>\n",
       "      <th>bullets</th>\n",
       "      <th>series_name</th>\n",
       "    </tr>\n",
       "  </thead>\n",
       "  <tbody>\n",
       "    <tr>\n",
       "      <th>0</th>\n",
       "      <td>313296145</td>\n",
       "      <td>JAX Standard 8 in. Widespread 2-Handle Quarter...</td>\n",
       "      <td>Smooth modern lines come together with this po...</td>\n",
       "      <td>NaN</td>\n",
       "      <td>High pressure ceramic cartridge|Solid brass co...</td>\n",
       "      <td>Jax</td>\n",
       "    </tr>\n",
       "    <tr>\n",
       "      <th>1</th>\n",
       "      <td>313296138</td>\n",
       "      <td>JAX Standard 8 in. Widespread 2-Handle Quarter...</td>\n",
       "      <td>Smooth modern lines come together with this po...</td>\n",
       "      <td>NaN</td>\n",
       "      <td>Solid brass construction|Supply lines, valves ...</td>\n",
       "      <td>Jax</td>\n",
       "    </tr>\n",
       "    <tr>\n",
       "      <th>2</th>\n",
       "      <td>313296149</td>\n",
       "      <td>JAX Standard 8 in. Widespread 2-Handle Quarter...</td>\n",
       "      <td>Smooth modern lines come together with this po...</td>\n",
       "      <td>NaN</td>\n",
       "      <td>Standard plumbing installation|ADA compliant|c...</td>\n",
       "      <td>Jax</td>\n",
       "    </tr>\n",
       "    <tr>\n",
       "      <th>3</th>\n",
       "      <td>313296158</td>\n",
       "      <td>JAX Standard 8 in. Widespread 2-Handle Quarter...</td>\n",
       "      <td>Smooth modern lines come together with this po...</td>\n",
       "      <td>NaN</td>\n",
       "      <td>ADA compliant|Solid brass construction|High pr...</td>\n",
       "      <td>Jax</td>\n",
       "    </tr>\n",
       "    <tr>\n",
       "      <th>4</th>\n",
       "      <td>315696655</td>\n",
       "      <td>AN-4500 and AN-4512 Aria Single Handle Single ...</td>\n",
       "      <td>NaN</td>\n",
       "      <td>NaN</td>\n",
       "      <td>Single-hole installation|cUPC certified|All mo...</td>\n",
       "      <td>Aria</td>\n",
       "    </tr>\n",
       "    <tr>\n",
       "      <th>...</th>\n",
       "      <td>...</td>\n",
       "      <td>...</td>\n",
       "      <td>...</td>\n",
       "      <td>...</td>\n",
       "      <td>...</td>\n",
       "      <td>...</td>\n",
       "    </tr>\n",
       "    <tr>\n",
       "      <th>29670</th>\n",
       "      <td>313341432</td>\n",
       "      <td>Colinet 2-Handle Wall Mount Bathroom Faucet Tr...</td>\n",
       "      <td>Colinet, is a highly distinctive suite that pe...</td>\n",
       "      <td>.Proprietary Brand - Not In List</td>\n",
       "      <td>Built on the MOEN M-PACT common valve system, ...</td>\n",
       "      <td>Colinet</td>\n",
       "    </tr>\n",
       "    <tr>\n",
       "      <th>29671</th>\n",
       "      <td>313341429</td>\n",
       "      <td>Colinet 2-Handle Wall Mount Bathroom Faucet Tr...</td>\n",
       "      <td>Colinet, is a highly distinctive suite that pe...</td>\n",
       "      <td>.Proprietary Brand - Not In List</td>\n",
       "      <td>Brushed gold finish adds a touch of sophistica...</td>\n",
       "      <td>Colinet</td>\n",
       "    </tr>\n",
       "    <tr>\n",
       "      <th>29672</th>\n",
       "      <td>313341430</td>\n",
       "      <td>Colinet 2-Handle Wall Mount Bathroom Faucet Tr...</td>\n",
       "      <td>Colinet, is a highly distinctive suite that pe...</td>\n",
       "      <td>.Proprietary Brand - Not In List</td>\n",
       "      <td>Built on the MOEN M-pact common valve system, ...</td>\n",
       "      <td>Colinet</td>\n",
       "    </tr>\n",
       "    <tr>\n",
       "      <th>29673</th>\n",
       "      <td>313341434</td>\n",
       "      <td>Colinet 2-Handle Wall Mount Bathroom Faucet Tr...</td>\n",
       "      <td>Colinet, is a highly distinctive suite that pe...</td>\n",
       "      <td>.Proprietary Brand - Not In List</td>\n",
       "      <td>Brushed nickel finish provides a lightly brush...</td>\n",
       "      <td>Colinet</td>\n",
       "    </tr>\n",
       "    <tr>\n",
       "      <th>29674</th>\n",
       "      <td>313341441</td>\n",
       "      <td>Colinet 2-Handle Wall Mount Bathroom Faucet Tr...</td>\n",
       "      <td>Colinet, is a highly distinctive suite that pe...</td>\n",
       "      <td>.Proprietary Brand - Not In List</td>\n",
       "      <td>Coordinates with MOEN Colinet bath faucets and...</td>\n",
       "      <td>Colinet</td>\n",
       "    </tr>\n",
       "  </tbody>\n",
       "</table>\n",
       "<p>29675 rows × 6 columns</p>\n",
       "</div>"
      ],
      "text/plain": [
       "           omsid                                       product_name  \\\n",
       "0      313296145  JAX Standard 8 in. Widespread 2-Handle Quarter...   \n",
       "1      313296138  JAX Standard 8 in. Widespread 2-Handle Quarter...   \n",
       "2      313296149  JAX Standard 8 in. Widespread 2-Handle Quarter...   \n",
       "3      313296158  JAX Standard 8 in. Widespread 2-Handle Quarter...   \n",
       "4      315696655  AN-4500 and AN-4512 Aria Single Handle Single ...   \n",
       "...          ...                                                ...   \n",
       "29670  313341432  Colinet 2-Handle Wall Mount Bathroom Faucet Tr...   \n",
       "29671  313341429  Colinet 2-Handle Wall Mount Bathroom Faucet Tr...   \n",
       "29672  313341430  Colinet 2-Handle Wall Mount Bathroom Faucet Tr...   \n",
       "29673  313341434  Colinet 2-Handle Wall Mount Bathroom Faucet Tr...   \n",
       "29674  313341441  Colinet 2-Handle Wall Mount Bathroom Faucet Tr...   \n",
       "\n",
       "                                             description  \\\n",
       "0      Smooth modern lines come together with this po...   \n",
       "1      Smooth modern lines come together with this po...   \n",
       "2      Smooth modern lines come together with this po...   \n",
       "3      Smooth modern lines come together with this po...   \n",
       "4                                                    NaN   \n",
       "...                                                  ...   \n",
       "29670  Colinet, is a highly distinctive suite that pe...   \n",
       "29671  Colinet, is a highly distinctive suite that pe...   \n",
       "29672  Colinet, is a highly distinctive suite that pe...   \n",
       "29673  Colinet, is a highly distinctive suite that pe...   \n",
       "29674  Colinet, is a highly distinctive suite that pe...   \n",
       "\n",
       "                                  brand  \\\n",
       "0                                   NaN   \n",
       "1                                   NaN   \n",
       "2                                   NaN   \n",
       "3                                   NaN   \n",
       "4                                   NaN   \n",
       "...                                 ...   \n",
       "29670  .Proprietary Brand - Not In List   \n",
       "29671  .Proprietary Brand - Not In List   \n",
       "29672  .Proprietary Brand - Not In List   \n",
       "29673  .Proprietary Brand - Not In List   \n",
       "29674  .Proprietary Brand - Not In List   \n",
       "\n",
       "                                                 bullets series_name  \n",
       "0      High pressure ceramic cartridge|Solid brass co...         Jax  \n",
       "1      Solid brass construction|Supply lines, valves ...         Jax  \n",
       "2      Standard plumbing installation|ADA compliant|c...         Jax  \n",
       "3      ADA compliant|Solid brass construction|High pr...         Jax  \n",
       "4      Single-hole installation|cUPC certified|All mo...        Aria  \n",
       "...                                                  ...         ...  \n",
       "29670  Built on the MOEN M-PACT common valve system, ...     Colinet  \n",
       "29671  Brushed gold finish adds a touch of sophistica...     Colinet  \n",
       "29672  Built on the MOEN M-pact common valve system, ...     Colinet  \n",
       "29673  Brushed nickel finish provides a lightly brush...     Colinet  \n",
       "29674  Coordinates with MOEN Colinet bath faucets and...     Colinet  \n",
       "\n",
       "[29675 rows x 6 columns]"
      ]
     },
     "execution_count": 6,
     "metadata": {},
     "output_type": "execute_result"
    }
   ],
   "source": [
    "myData"
   ]
  },
  {
   "cell_type": "code",
   "execution_count": 71,
   "id": "8d494b46-5b01-494e-a694-13baf47b8363",
   "metadata": {},
   "outputs": [],
   "source": [
    "import json\n",
    "from pathlib import Path\n",
    "\n",
    "def read_squad(path):\n",
    "    path = Path(path)\n",
    "    with open(path, 'rb') as f:\n",
    "        squad_dict = json.load(f)\n",
    "\n",
    "    contexts = []\n",
    "    questions = []\n",
    "    answers = []\n",
    "    for group in squad_dict['data']:\n",
    "        for passage in group['paragraphs']:\n",
    "            context = passage['context']\n",
    "            for qa in passage['qas']:\n",
    "                question = qa['question']\n",
    "                for answer in qa['answers']:\n",
    "                    contexts.append(context)\n",
    "                    questions.append(question)\n",
    "                    answers.append(answer)\n",
    "\n",
    "    return contexts, questions, answers\n",
    "\n",
    "train_contexts, train_questions, train_answers = read_squad('squad/train-v2.0.json')\n",
    "val_contexts, val_questions, val_answers = read_squad('squad/dev-v2.0.json')\n",
    "\n",
    "def add_end_idx(answers, contexts):\n",
    "    for answer, context in zip(answers, contexts):\n",
    "        gold_text = answer['text']\n",
    "        start_idx = answer['answer_start']\n",
    "        end_idx = start_idx + len(gold_text)\n",
    "\n",
    "        # sometimes squad answers are off by a character or two – fix this\n",
    "        if context[start_idx:end_idx] == gold_text:\n",
    "            answer['answer_end'] = end_idx\n",
    "        elif context[start_idx-1:end_idx-1] == gold_text:\n",
    "            answer['answer_start'] = start_idx - 1\n",
    "            answer['answer_end'] = end_idx - 1     # When the gold label is off by one character\n",
    "        elif context[start_idx-2:end_idx-2] == gold_text:\n",
    "            answer['answer_start'] = start_idx - 2\n",
    "            answer['answer_end'] = end_idx - 2     # When the gold label is off by two characters\n",
    "\n",
    "add_end_idx(train_answers, train_contexts)\n",
    "add_end_idx(val_answers, val_contexts)"
   ]
  },
  {
   "cell_type": "code",
   "execution_count": 72,
   "id": "8a5b9a5f-edd7-4579-9c8b-a428005c0777",
   "metadata": {},
   "outputs": [
    {
     "data": {
      "text/plain": [
       "('singing and dancing', 19)"
      ]
     },
     "execution_count": 72,
     "metadata": {},
     "output_type": "execute_result"
    }
   ],
   "source": [
    "train_contexts[1][207:226],len('singing and dancing')"
   ]
  },
  {
   "cell_type": "raw",
   "id": "5ca68168-96f3-491b-bfaf-737b4f6da9d5",
   "metadata": {},
   "source": [
    "train_contexts[1],train_questions[1], train_answers[1]"
   ]
  },
  {
   "cell_type": "code",
   "execution_count": 168,
   "id": "db1f5278-581e-4538-b315-77589fdcceb7",
   "metadata": {},
   "outputs": [
    {
     "data": {
      "text/plain": [
       "[{'text': 'in the late 1990s', 'answer_start': 269, 'answer_end': 286},\n",
       " {'text': 'singing and dancing', 'answer_start': 207, 'answer_end': 226},\n",
       " {'text': '2003', 'answer_start': 526, 'answer_end': 530},\n",
       " {'text': 'Houston, Texas', 'answer_start': 166, 'answer_end': 180},\n",
       " {'text': 'late 1990s', 'answer_start': 276, 'answer_end': 286},\n",
       " {'text': \"Destiny's Child\", 'answer_start': 320, 'answer_end': 335},\n",
       " {'text': 'Dangerously in Love', 'answer_start': 505, 'answer_end': 524},\n",
       " {'text': 'Mathew Knowles', 'answer_start': 360, 'answer_end': 374},\n",
       " {'text': 'late 1990s', 'answer_start': 276, 'answer_end': 286},\n",
       " {'text': 'lead singer', 'answer_start': 290, 'answer_end': 301}]"
      ]
     },
     "execution_count": 168,
     "metadata": {},
     "output_type": "execute_result"
    }
   ],
   "source": [
    "train_answers[:10]"
   ]
  },
  {
   "cell_type": "code",
   "execution_count": 73,
   "id": "301e2156-68b8-4016-a335-340cc94b6b7b",
   "metadata": {},
   "outputs": [],
   "source": [
    "myData = myData.loc[:,['omsid','product_name','series_name']]"
   ]
  },
  {
   "cell_type": "code",
   "execution_count": 74,
   "id": "14ca1360-db73-415c-a609-8545a46e0386",
   "metadata": {},
   "outputs": [],
   "source": [
    "myData.loc[:,'answer_start'] = \"N\"\n",
    "myData.loc[:,'answer_end'] = \"N\""
   ]
  },
  {
   "cell_type": "code",
   "execution_count": 75,
   "id": "47decbd0-3689-45ae-9b37-6c172ddfc9bf",
   "metadata": {},
   "outputs": [
    {
     "name": "stdout",
     "output_type": "stream",
     "text": [
      "out of 29675, 23391 are in the title\n"
     ]
    }
   ],
   "source": [
    "counter = 0\n",
    "for i, row in myData.iterrows():\n",
    "    if row.series_name in row.product_name:\n",
    "        myData.loc[i,'answer_start'] = row.product_name.index(row.series_name)\n",
    "        myData.loc[i,'answer_end'] = myData.loc[i,'answer_start'] + len(row.series_name)\n",
    "        counter += 1\n",
    "print(f\"out of {myData.shape[0]}, {counter} are in the title\")"
   ]
  },
  {
   "cell_type": "code",
   "execution_count": 172,
   "id": "88ab1814-19a0-4751-9404-daf18b3c6401",
   "metadata": {},
   "outputs": [
    {
     "data": {
      "text/plain": [
       "0.7882392586352148"
      ]
     },
     "execution_count": 172,
     "metadata": {},
     "output_type": "execute_result"
    }
   ],
   "source": [
    "23391/29675"
   ]
  },
  {
   "cell_type": "code",
   "execution_count": 76,
   "id": "e8102f90-3825-475f-9d67-298728e9219e",
   "metadata": {},
   "outputs": [],
   "source": [
    "myData_cleaned = myData.loc[myData.loc[:,'answer_start'] != \"N\", :]"
   ]
  },
  {
   "cell_type": "code",
   "execution_count": 77,
   "id": "a3d69b27-b373-41fb-970d-a4bf83ab0e9a",
   "metadata": {},
   "outputs": [],
   "source": [
    "myData_oos = myData.loc[myData.loc[:,'answer_start'] == \"N\", :]"
   ]
  },
  {
   "cell_type": "code",
   "execution_count": 12,
   "id": "dd4bde68-5ae1-4117-ac9a-86dccf08f1bb",
   "metadata": {},
   "outputs": [
    {
     "data": {
      "text/html": [
       "<div>\n",
       "<style scoped>\n",
       "    .dataframe tbody tr th:only-of-type {\n",
       "        vertical-align: middle;\n",
       "    }\n",
       "\n",
       "    .dataframe tbody tr th {\n",
       "        vertical-align: top;\n",
       "    }\n",
       "\n",
       "    .dataframe thead th {\n",
       "        text-align: right;\n",
       "    }\n",
       "</style>\n",
       "<table border=\"1\" class=\"dataframe\">\n",
       "  <thead>\n",
       "    <tr style=\"text-align: right;\">\n",
       "      <th></th>\n",
       "      <th>omsid</th>\n",
       "      <th>product_name</th>\n",
       "      <th>series_name</th>\n",
       "      <th>answer_start</th>\n",
       "      <th>answer_end</th>\n",
       "    </tr>\n",
       "  </thead>\n",
       "  <tbody>\n",
       "    <tr>\n",
       "      <th>0</th>\n",
       "      <td>313296145</td>\n",
       "      <td>JAX Standard 8 in. Widespread 2-Handle Quarter...</td>\n",
       "      <td>Jax</td>\n",
       "      <td>N</td>\n",
       "      <td>N</td>\n",
       "    </tr>\n",
       "    <tr>\n",
       "      <th>1</th>\n",
       "      <td>313296138</td>\n",
       "      <td>JAX Standard 8 in. Widespread 2-Handle Quarter...</td>\n",
       "      <td>Jax</td>\n",
       "      <td>N</td>\n",
       "      <td>N</td>\n",
       "    </tr>\n",
       "    <tr>\n",
       "      <th>2</th>\n",
       "      <td>313296149</td>\n",
       "      <td>JAX Standard 8 in. Widespread 2-Handle Quarter...</td>\n",
       "      <td>Jax</td>\n",
       "      <td>N</td>\n",
       "      <td>N</td>\n",
       "    </tr>\n",
       "    <tr>\n",
       "      <th>3</th>\n",
       "      <td>313296158</td>\n",
       "      <td>JAX Standard 8 in. Widespread 2-Handle Quarter...</td>\n",
       "      <td>Jax</td>\n",
       "      <td>N</td>\n",
       "      <td>N</td>\n",
       "    </tr>\n",
       "    <tr>\n",
       "      <th>13</th>\n",
       "      <td>313026686</td>\n",
       "      <td>WALTZ 8 in. Widespread 2-Handle Lavatory Bathr...</td>\n",
       "      <td>Waltz</td>\n",
       "      <td>N</td>\n",
       "      <td>N</td>\n",
       "    </tr>\n",
       "    <tr>\n",
       "      <th>...</th>\n",
       "      <td>...</td>\n",
       "      <td>...</td>\n",
       "      <td>...</td>\n",
       "      <td>...</td>\n",
       "      <td>...</td>\n",
       "    </tr>\n",
       "    <tr>\n",
       "      <th>29660</th>\n",
       "      <td>305303412</td>\n",
       "      <td>1-Spray 1 in. Single Wall Mount Waterfall Hand...</td>\n",
       "      <td>Handheld Shower Heads</td>\n",
       "      <td>N</td>\n",
       "      <td>N</td>\n",
       "    </tr>\n",
       "    <tr>\n",
       "      <th>29663</th>\n",
       "      <td>314630664</td>\n",
       "      <td>Geneva 30 in. Farmhouse Apron Front Kitchen Si...</td>\n",
       "      <td>GENEVA</td>\n",
       "      <td>N</td>\n",
       "      <td>N</td>\n",
       "    </tr>\n",
       "    <tr>\n",
       "      <th>29664</th>\n",
       "      <td>314630667</td>\n",
       "      <td>Champlain 30 in. Farmhouse Apron Front Kitchen...</td>\n",
       "      <td>CHAMPLAIN</td>\n",
       "      <td>N</td>\n",
       "      <td>N</td>\n",
       "    </tr>\n",
       "    <tr>\n",
       "      <th>29665</th>\n",
       "      <td>314630665</td>\n",
       "      <td>Fortress 29 3/4 in. White Farmhouse Apron Fron...</td>\n",
       "      <td>ROUND APRON</td>\n",
       "      <td>N</td>\n",
       "      <td>N</td>\n",
       "    </tr>\n",
       "    <tr>\n",
       "      <th>29666</th>\n",
       "      <td>314630663</td>\n",
       "      <td>Cesame 34 in. Drop-In Self Rimming Double Basi...</td>\n",
       "      <td>DROP-IN COUNTER SINK PORCELAIN DOUBLE</td>\n",
       "      <td>N</td>\n",
       "      <td>N</td>\n",
       "    </tr>\n",
       "  </tbody>\n",
       "</table>\n",
       "<p>6284 rows × 5 columns</p>\n",
       "</div>"
      ],
      "text/plain": [
       "           omsid                                       product_name  \\\n",
       "0      313296145  JAX Standard 8 in. Widespread 2-Handle Quarter...   \n",
       "1      313296138  JAX Standard 8 in. Widespread 2-Handle Quarter...   \n",
       "2      313296149  JAX Standard 8 in. Widespread 2-Handle Quarter...   \n",
       "3      313296158  JAX Standard 8 in. Widespread 2-Handle Quarter...   \n",
       "13     313026686  WALTZ 8 in. Widespread 2-Handle Lavatory Bathr...   \n",
       "...          ...                                                ...   \n",
       "29660  305303412  1-Spray 1 in. Single Wall Mount Waterfall Hand...   \n",
       "29663  314630664  Geneva 30 in. Farmhouse Apron Front Kitchen Si...   \n",
       "29664  314630667  Champlain 30 in. Farmhouse Apron Front Kitchen...   \n",
       "29665  314630665  Fortress 29 3/4 in. White Farmhouse Apron Fron...   \n",
       "29666  314630663  Cesame 34 in. Drop-In Self Rimming Double Basi...   \n",
       "\n",
       "                                 series_name answer_start answer_end  \n",
       "0                                        Jax            N          N  \n",
       "1                                        Jax            N          N  \n",
       "2                                        Jax            N          N  \n",
       "3                                        Jax            N          N  \n",
       "13                                     Waltz            N          N  \n",
       "...                                      ...          ...        ...  \n",
       "29660                  Handheld Shower Heads            N          N  \n",
       "29663                                 GENEVA            N          N  \n",
       "29664                              CHAMPLAIN            N          N  \n",
       "29665                            ROUND APRON            N          N  \n",
       "29666  DROP-IN COUNTER SINK PORCELAIN DOUBLE            N          N  \n",
       "\n",
       "[6284 rows x 5 columns]"
      ]
     },
     "execution_count": 12,
     "metadata": {},
     "output_type": "execute_result"
    }
   ],
   "source": [
    "myData_oos"
   ]
  },
  {
   "cell_type": "code",
   "execution_count": 78,
   "id": "8ffec01a-80f1-4a7f-82bf-d05a7d5d61a1",
   "metadata": {},
   "outputs": [],
   "source": [
    "from sklearn.model_selection import train_test_split"
   ]
  },
  {
   "cell_type": "code",
   "execution_count": 79,
   "id": "6e08b12b-a2e6-4165-ba8d-fdbfabefbad5",
   "metadata": {},
   "outputs": [],
   "source": [
    "train, test = train_test_split(myData_cleaned, test_size=0.2)"
   ]
  },
  {
   "cell_type": "code",
   "execution_count": 80,
   "id": "ae5c4902-ce75-41c5-8e87-8d4de30819b8",
   "metadata": {},
   "outputs": [],
   "source": [
    "train_answers, train_contexts, train_questions = [], [], []\n",
    "for i, row in train.iterrows():\n",
    "    train_contexts.append(row.product_name)\n",
    "    train_answers.append({'text': row.series_name, 'answer_start': row.answer_start, 'answer_end': row.answer_end})\n",
    "    train_questions.append('What is the series name of this product?')\n",
    "    \n",
    "test_answers, test_contexts, test_questions = [], [], []\n",
    "for i, row in test.iterrows():\n",
    "    test_contexts.append(row.product_name)\n",
    "    test_answers.append({'text': row.series_name, 'answer_start': row.answer_start, 'answer_end': row.answer_end})\n",
    "    test_questions.append('What is the series name of this product?')\n",
    "    "
   ]
  },
  {
   "cell_type": "code",
   "execution_count": 81,
   "id": "e553c548-f2d2-4550-838d-bbc611101e5f",
   "metadata": {},
   "outputs": [],
   "source": [
    "## out of sample data set...those whose series names do not exist in product titles\n",
    "test_oos_answers, test_oos_contexts, test_oos_questions = [], [], []\n",
    "for i, row in myData_oos.iterrows():\n",
    "    test_oos_contexts.append(row.product_name)\n",
    "    test_oos_answers.append({'text': row.series_name, 'answer_start': None, 'answer_end': None})\n",
    "    test_oos_questions.append('What is the series name of this product?')"
   ]
  },
  {
   "cell_type": "code",
   "execution_count": null,
   "id": "952535d6-de36-4e64-9b16-fec53451ad9c",
   "metadata": {},
   "outputs": [],
   "source": []
  },
  {
   "cell_type": "code",
   "execution_count": 76,
   "id": "f1f7b9e9-fc13-4ef3-8eea-aac178b53b52",
   "metadata": {},
   "outputs": [
    {
     "name": "stdout",
     "output_type": "stream",
     "text": [
      "README.md           merges.txt         special_tokens_map.json\n",
      "config.json         pytorch_model.bin  tokenizer_config.json\n",
      "flax_model.msgpack  rust_model.ot      vocab.json\n"
     ]
    }
   ],
   "source": [
    "ls roberta-base-squad2/"
   ]
  },
  {
   "cell_type": "code",
   "execution_count": 93,
   "id": "5b64bd89-6211-42f7-b8f3-f07d22cfa573",
   "metadata": {},
   "outputs": [],
   "source": [
    "from transformers import DistilBertTokenizerFast\n",
    "tokenizer = DistilBertTokenizerFast.from_pretrained('distilbert-base-uncased')\n",
    "\n",
    "train_encodings = tokenizer(train_contexts, train_questions, truncation=True, padding=True)\n",
    "val_encodings = tokenizer(test_contexts, test_questions, truncation=True, padding=True)"
   ]
  },
  {
   "cell_type": "code",
   "execution_count": 82,
   "id": "9e8842db-bd26-4358-838f-b30adf8694f1",
   "metadata": {},
   "outputs": [],
   "source": [
    "def add_token_positions(encodings, answers):\n",
    "    start_positions = []\n",
    "    end_positions = []\n",
    "    for i in range(len(answers)):\n",
    "        start_positions.append(encodings.char_to_token(i, answers[i]['answer_start']))\n",
    "        end_positions.append(encodings.char_to_token(i, answers[i]['answer_end'] - 1))\n",
    "        # if None, the answer passage has been truncated\n",
    "        if start_positions[-1] is None:\n",
    "            start_positions[-1] = tokenizer.model_max_length\n",
    "        if end_positions[-1] is None:\n",
    "            end_positions[-1] = tokenizer.model_max_length\n",
    "    encodings.update({'start_positions': start_positions, 'end_positions': end_positions})\n",
    "\n",
    "add_token_positions(train_encodings, train_answers)\n",
    "add_token_positions(val_encodings, test_answers)"
   ]
  },
  {
   "cell_type": "code",
   "execution_count": null,
   "id": "0368617b-d4d3-4b9a-86e6-1d3f14337695",
   "metadata": {},
   "outputs": [],
   "source": []
  },
  {
   "cell_type": "code",
   "execution_count": 94,
   "id": "698aeec9-6768-408b-9454-7522f966d9b7",
   "metadata": {},
   "outputs": [],
   "source": [
    "import torch\n",
    "\n",
    "class SquadDataset(torch.utils.data.Dataset):\n",
    "    def __init__(self, encodings):\n",
    "        self.encodings = encodings\n",
    "\n",
    "    def __getitem__(self, idx):\n",
    "        return {key: torch.tensor(val[idx]) for key, val in self.encodings.items()}\n",
    "\n",
    "    def __len__(self):\n",
    "        return len(self.encodings.input_ids)\n",
    "\n",
    "# build datasets for both our training and validation sets\n",
    "#train_dataset = SquadDataset(train_encodings)\n",
    "val_dataset = SquadDataset(val_encodings)"
   ]
  },
  {
   "cell_type": "code",
   "execution_count": 85,
   "id": "fd88247e-510a-4f90-ac0c-98753f300267",
   "metadata": {},
   "outputs": [],
   "source": [
    "from transformers import DistilBertForQuestionAnswering\n",
    "from torch.utils.data import DataLoader\n",
    "from transformers import AdamW\n",
    "from tqdm import tqdm\n",
    "# model = DistilBertForQuestionAnswering.from_pretrained(\"distilbert-base-uncased\")"
   ]
  },
  {
   "cell_type": "code",
   "execution_count": 19,
   "id": "665c931e-8b65-4ca3-9e0a-4887c2e0b860",
   "metadata": {},
   "outputs": [
    {
     "name": "stderr",
     "output_type": "stream",
     "text": [
      "Epoch 0: 100%|██████████| 1170/1170 [01:54<00:00, 10.18it/s, loss=0.0529] \n",
      "Epoch 1: 100%|██████████| 1170/1170 [01:55<00:00, 10.15it/s, loss=0.00708] \n",
      "Epoch 2: 100%|██████████| 1170/1170 [01:55<00:00, 10.14it/s, loss=0.00322] \n"
     ]
    }
   ],
   "source": [
    "# setup GPU/CPU\n",
    "device = torch.device('cuda') if torch.cuda.is_available() else torch.device('cpu')\n",
    "# move model over to detected device\n",
    "model.to(device)\n",
    "# activate training mode of model\n",
    "model.train()\n",
    "# initialize adam optimizer with weight decay (reduces chance of overfitting)\n",
    "optim = AdamW(model.parameters(), lr=5e-5)\n",
    "\n",
    "# initialize data loader for training data\n",
    "train_loader = DataLoader(train_dataset, batch_size=16, shuffle=True)\n",
    "\n",
    "for epoch in range(3):\n",
    "    # set model to train mode\n",
    "    model.train()\n",
    "    # setup loop (we use tqdm for the progress bar)\n",
    "    loop = tqdm(train_loader, leave=True)\n",
    "    for batch in loop:\n",
    "        # initialize calculated gradients (from prev step)\n",
    "        optim.zero_grad()\n",
    "        # pull all the tensor batches required for training\n",
    "        input_ids = batch['input_ids'].to(device)\n",
    "        attention_mask = batch['attention_mask'].to(device)\n",
    "        start_positions = batch['start_positions'].to(device)\n",
    "        end_positions = batch['end_positions'].to(device)\n",
    "        # train model on batch and return outputs (incl. loss)\n",
    "        outputs = model(input_ids, attention_mask=attention_mask,\n",
    "                        start_positions=start_positions,\n",
    "                        end_positions=end_positions)\n",
    "        # extract loss\n",
    "        loss = outputs[0]\n",
    "        # calculate loss for every parameter that needs grad update\n",
    "        loss.backward()\n",
    "        # update parameters\n",
    "        optim.step()\n",
    "        # print relevant info to progress bar\n",
    "        loop.set_description(f'Epoch {epoch}')\n",
    "        loop.set_postfix(loss=loss.item())"
   ]
  },
  {
   "cell_type": "code",
   "execution_count": 86,
   "id": "666bd3a1-fdc5-4c4d-8454-4e43937b3c17",
   "metadata": {},
   "outputs": [],
   "source": [
    "from transformers import pipeline"
   ]
  },
  {
   "cell_type": "code",
   "execution_count": 87,
   "id": "898cd8a8-7ec1-47e0-b161-6110ef6a9dca",
   "metadata": {},
   "outputs": [],
   "source": [
    "qa = pipeline(\"question-answering\", model=model, tokenizer=tokenizer)"
   ]
  },
  {
   "cell_type": "code",
   "execution_count": 77,
   "id": "566e075b-13c4-429c-8349-35251de6416f",
   "metadata": {},
   "outputs": [],
   "source": [
    "question=\"What is the series name of this product?\""
   ]
  },
  {
   "cell_type": "code",
   "execution_count": 95,
   "id": "ddef6a3c-bec3-456d-bd53-17cd400f015f",
   "metadata": {},
   "outputs": [],
   "source": [
    "# switch model out of training mode\n",
    "model.to(device)\n",
    "model.eval()\n",
    "device = torch.device('cuda') if torch.cuda.is_available() else torch.device('cpu')\n",
    "\n",
    "# initialize validation set data loader\n",
    "val_loader = DataLoader(val_dataset, batch_size=16)\n",
    "# initialize list to store accuracies\n",
    "acc = []\n",
    "# loop through batches\n",
    "all_preds, all_truths = [],[]\n",
    "for batch in val_loader:\n",
    "    # we don't need to calculate gradients as we're not training\n",
    "    with torch.no_grad():\n",
    "        # pull batched items from loader\n",
    "        input_ids = batch['input_ids'].to(device)\n",
    "        attention_mask = batch['attention_mask'].to(device)\n",
    "        # we will use true positions for accuracy calc\n",
    "        start_true = batch['start_positions'].to(device)\n",
    "        end_true = batch['end_positions'].to(device)\n",
    "        # make predictions\n",
    "        outputs = model(input_ids, attention_mask=attention_mask)\n",
    "        # pull prediction tensors out and argmax to get predicted tokens\n",
    "        start_pred = torch.argmax(outputs['start_logits'], dim=1)\n",
    "        end_pred = torch.argmax(outputs['end_logits'], dim=1)\n",
    "        # calculate accuracy for both and append to accuracy list\n",
    "        acc.append(((start_pred == start_true).sum()/len(start_pred)).item())\n",
    "        acc.append(((end_pred == end_true).sum()/len(end_pred)).item())\n",
    "        pred_answer_batch = [ tokenizer.convert_tokens_to_string(tokenizer.convert_ids_to_tokens(input_ids[x][start_pred[x]:end_pred[x]+1])) for x in range(input_ids.shape[0])]\n",
    "        true_answer_batch = [ tokenizer.convert_tokens_to_string(tokenizer.convert_ids_to_tokens(input_ids[x][start_true[x]:end_true[x]+1])) for x in range(input_ids.shape[0])]\n",
    "        all_preds.extend(pred_answer_batch)\n",
    "        all_truths.extend(truth_batch)\n",
    "# calculate average accuracy in total\n",
    "acc = sum(acc)/len(acc)"
   ]
  },
  {
   "cell_type": "code",
   "execution_count": 98,
   "id": "0ab5a9c8-e6a6-4256-bb46-48a61601bc66",
   "metadata": {},
   "outputs": [],
   "source": [
    "test.loc[:,'series_name_pred'] = all_preds"
   ]
  },
  {
   "cell_type": "code",
   "execution_count": 103,
   "id": "e0509fc2-c501-4df8-a8d6-53ed33ab2de7",
   "metadata": {},
   "outputs": [],
   "source": [
    "test['agreement'] = test['series_name_pred'] == test['series_name'].apply(lambda x: x.lower())"
   ]
  },
  {
   "cell_type": "code",
   "execution_count": 107,
   "id": "3d97e1d3-1b6d-4e92-a865-8a41e073d219",
   "metadata": {},
   "outputs": [],
   "source": [
    "test.to_csv('validation_dataset_results.csv',index=False)"
   ]
  },
  {
   "cell_type": "code",
   "execution_count": 108,
   "id": "9269c980-a77f-411f-8d92-eb98dae3addb",
   "metadata": {},
   "outputs": [],
   "source": [
    "## break down accuracy by categories..."
   ]
  },
  {
   "cell_type": "code",
   "execution_count": 111,
   "id": "4c20a05a-a43c-4158-b3d5-f99a28282c46",
   "metadata": {},
   "outputs": [
    {
     "name": "stdout",
     "output_type": "stream",
     "text": [
      "huggingface/tokenizers: The current process just got forked, after parallelism has already been used. Disabling parallelism to avoid deadlocks...\n",
      "To disable this warning, you can either:\n",
      "\t- Avoid using `tokenizers` before the fork if possible\n",
      "\t- Explicitly set the environment variable TOKENIZERS_PARALLELISM=(true | false)\n"
     ]
    }
   ],
   "source": [
    "client=bigquery.Client(project='analytics-online-data-sci-thd')\n",
    "query = \"\"\"\n",
    "with cat_names as (\n",
    "select omsid, l1, l2, taxonomy  from `hd-personalization-prod.personalization.common_CATGPENREL_taxonomy` ),\n",
    "\n",
    "series_name_qa_model_results as (\n",
    "select *, case when agreement=true then 1 else 0 end as num_agree  from `analytics-online-data-sci-thd.tianlong.series_name_qa_model_results` )\n",
    "\n",
    "select l1,l2,  avg(num_agree) categorywise_accuracy from series_name_qa_model_results a join cat_names b on safe_cast(a.omsid as string) = b.omsid \n",
    "group by l1, l2\n",
    "order by categorywise_accuracy\n",
    "\"\"\"\n",
    "results = client.query(query).to_dataframe()"
   ]
  },
  {
   "cell_type": "code",
   "execution_count": 112,
   "id": "43a123a7-76c7-44d0-8b16-acc5a0fff026",
   "metadata": {},
   "outputs": [
    {
     "data": {
      "text/html": [
       "<div>\n",
       "<style scoped>\n",
       "    .dataframe tbody tr th:only-of-type {\n",
       "        vertical-align: middle;\n",
       "    }\n",
       "\n",
       "    .dataframe tbody tr th {\n",
       "        vertical-align: top;\n",
       "    }\n",
       "\n",
       "    .dataframe thead th {\n",
       "        text-align: right;\n",
       "    }\n",
       "</style>\n",
       "<table border=\"1\" class=\"dataframe\">\n",
       "  <thead>\n",
       "    <tr style=\"text-align: right;\">\n",
       "      <th></th>\n",
       "      <th>l1</th>\n",
       "      <th>l2</th>\n",
       "      <th>categorywise_accuracy</th>\n",
       "    </tr>\n",
       "  </thead>\n",
       "  <tbody>\n",
       "    <tr>\n",
       "      <th>0</th>\n",
       "      <td>Featured Products</td>\n",
       "      <td>Holiday Exclusions 2020</td>\n",
       "      <td>0.700000</td>\n",
       "    </tr>\n",
       "    <tr>\n",
       "      <th>1</th>\n",
       "      <td>Appliances</td>\n",
       "      <td>Ranges</td>\n",
       "      <td>0.750000</td>\n",
       "    </tr>\n",
       "    <tr>\n",
       "      <th>2</th>\n",
       "      <td>Featured Products</td>\n",
       "      <td>Up to 20 Percent Off MOEN Essentials</td>\n",
       "      <td>0.769231</td>\n",
       "    </tr>\n",
       "    <tr>\n",
       "      <th>3</th>\n",
       "      <td>Appliances</td>\n",
       "      <td>Cooktops</td>\n",
       "      <td>0.800000</td>\n",
       "    </tr>\n",
       "    <tr>\n",
       "      <th>4</th>\n",
       "      <td>Appliances</td>\n",
       "      <td>Microwaves</td>\n",
       "      <td>0.833333</td>\n",
       "    </tr>\n",
       "    <tr>\n",
       "      <th>...</th>\n",
       "      <td>...</td>\n",
       "      <td>...</td>\n",
       "      <td>...</td>\n",
       "    </tr>\n",
       "    <tr>\n",
       "      <th>116</th>\n",
       "      <td>Featured Products</td>\n",
       "      <td>Pro Appreciation Glacier Bay Bath</td>\n",
       "      <td>1.000000</td>\n",
       "    </tr>\n",
       "    <tr>\n",
       "      <th>117</th>\n",
       "      <td>Featured Products</td>\n",
       "      <td>Delta Faucet New Products</td>\n",
       "      <td>1.000000</td>\n",
       "    </tr>\n",
       "    <tr>\n",
       "      <th>118</th>\n",
       "      <td>Featured Products</td>\n",
       "      <td>Email offer</td>\n",
       "      <td>1.000000</td>\n",
       "    </tr>\n",
       "    <tr>\n",
       "      <th>119</th>\n",
       "      <td>Featured Products</td>\n",
       "      <td>EndCap New Lower Prices</td>\n",
       "      <td>1.000000</td>\n",
       "    </tr>\n",
       "    <tr>\n",
       "      <th>120</th>\n",
       "      <td>Featured Products</td>\n",
       "      <td>Kitchen Faucets with  Touch2O Technology</td>\n",
       "      <td>1.000000</td>\n",
       "    </tr>\n",
       "  </tbody>\n",
       "</table>\n",
       "<p>121 rows × 3 columns</p>\n",
       "</div>"
      ],
      "text/plain": [
       "                    l1                                        l2  \\\n",
       "0    Featured Products                   Holiday Exclusions 2020   \n",
       "1           Appliances                                    Ranges   \n",
       "2    Featured Products      Up to 20 Percent Off MOEN Essentials   \n",
       "3           Appliances                                  Cooktops   \n",
       "4           Appliances                                Microwaves   \n",
       "..                 ...                                       ...   \n",
       "116  Featured Products         Pro Appreciation Glacier Bay Bath   \n",
       "117  Featured Products                 Delta Faucet New Products   \n",
       "118  Featured Products                               Email offer   \n",
       "119  Featured Products                   EndCap New Lower Prices   \n",
       "120  Featured Products  Kitchen Faucets with  Touch2O Technology   \n",
       "\n",
       "     categorywise_accuracy  \n",
       "0                 0.700000  \n",
       "1                 0.750000  \n",
       "2                 0.769231  \n",
       "3                 0.800000  \n",
       "4                 0.833333  \n",
       "..                     ...  \n",
       "116               1.000000  \n",
       "117               1.000000  \n",
       "118               1.000000  \n",
       "119               1.000000  \n",
       "120               1.000000  \n",
       "\n",
       "[121 rows x 3 columns]"
      ]
     },
     "execution_count": 112,
     "metadata": {},
     "output_type": "execute_result"
    }
   ],
   "source": [
    "results"
   ]
  },
  {
   "cell_type": "code",
   "execution_count": 114,
   "id": "c866930a-d78c-47bf-9ab9-186da7773769",
   "metadata": {},
   "outputs": [
    {
     "data": {
      "text/html": [
       "<div>\n",
       "<style scoped>\n",
       "    .dataframe tbody tr th:only-of-type {\n",
       "        vertical-align: middle;\n",
       "    }\n",
       "\n",
       "    .dataframe tbody tr th {\n",
       "        vertical-align: top;\n",
       "    }\n",
       "\n",
       "    .dataframe thead th {\n",
       "        text-align: right;\n",
       "    }\n",
       "</style>\n",
       "<table border=\"1\" class=\"dataframe\">\n",
       "  <thead>\n",
       "    <tr style=\"text-align: right;\">\n",
       "      <th></th>\n",
       "      <th>omsid</th>\n",
       "      <th>product_name</th>\n",
       "      <th>series_name</th>\n",
       "      <th>answer_start</th>\n",
       "      <th>answer_end</th>\n",
       "      <th>series_name_pred</th>\n",
       "      <th>agreement</th>\n",
       "    </tr>\n",
       "  </thead>\n",
       "  <tbody>\n",
       "    <tr>\n",
       "      <th>11781</th>\n",
       "      <td>203095371</td>\n",
       "      <td>Iron/Tones Drop-In/Undermount Cast-Iron 17 in....</td>\n",
       "      <td>Iron/Tones</td>\n",
       "      <td>0</td>\n",
       "      <td>10</td>\n",
       "      <td>iron / tones</td>\n",
       "      <td>False</td>\n",
       "    </tr>\n",
       "    <tr>\n",
       "      <th>106</th>\n",
       "      <td>303404502</td>\n",
       "      <td>Enbrighten Z-Wave Plus In-Wall 1000W Smart Dimmer</td>\n",
       "      <td>Z-Wave Plus</td>\n",
       "      <td>11</td>\n",
       "      <td>22</td>\n",
       "      <td>z - wave plus</td>\n",
       "      <td>False</td>\n",
       "    </tr>\n",
       "    <tr>\n",
       "      <th>22975</th>\n",
       "      <td>313966201</td>\n",
       "      <td>Bel-Air 8 in. Widespread 2-Handle Bathroom Fau...</td>\n",
       "      <td>Bel-Air</td>\n",
       "      <td>0</td>\n",
       "      <td>7</td>\n",
       "      <td>bel - air</td>\n",
       "      <td>False</td>\n",
       "    </tr>\n",
       "    <tr>\n",
       "      <th>26594</th>\n",
       "      <td>306778317</td>\n",
       "      <td>Studio S Single-Handle Single Hole Vessel Bath...</td>\n",
       "      <td>Studio S</td>\n",
       "      <td>0</td>\n",
       "      <td>8</td>\n",
       "      <td>studio</td>\n",
       "      <td>False</td>\n",
       "    </tr>\n",
       "    <tr>\n",
       "      <th>7580</th>\n",
       "      <td>206665129</td>\n",
       "      <td>Pax Zero-Radius 22.5in. 16 Gauge Undermount Si...</td>\n",
       "      <td>Pax Zero-Radius</td>\n",
       "      <td>0</td>\n",
       "      <td>15</td>\n",
       "      <td>pax zero - radius</td>\n",
       "      <td>False</td>\n",
       "    </tr>\n",
       "    <tr>\n",
       "      <th>...</th>\n",
       "      <td>...</td>\n",
       "      <td>...</td>\n",
       "      <td>...</td>\n",
       "      <td>...</td>\n",
       "      <td>...</td>\n",
       "      <td>...</td>\n",
       "      <td>...</td>\n",
       "    </tr>\n",
       "    <tr>\n",
       "      <th>11777</th>\n",
       "      <td>203095380</td>\n",
       "      <td>Iron/Tones Drop-In/Undermount Cast-Iron 24 in....</td>\n",
       "      <td>Iron/Tones</td>\n",
       "      <td>0</td>\n",
       "      <td>10</td>\n",
       "      <td>iron / tones</td>\n",
       "      <td>False</td>\n",
       "    </tr>\n",
       "    <tr>\n",
       "      <th>17015</th>\n",
       "      <td>315709525</td>\n",
       "      <td>Richard White Ceramic 33.27 in. Double Bowl Fa...</td>\n",
       "      <td>Richard White Ceramic 33.27 in. Double Bowl Fa...</td>\n",
       "      <td>0</td>\n",
       "      <td>84</td>\n",
       "      <td>richard white ceramic 33. 27 in. double bowl f...</td>\n",
       "      <td>False</td>\n",
       "    </tr>\n",
       "    <tr>\n",
       "      <th>22972</th>\n",
       "      <td>313966233</td>\n",
       "      <td>Bel-Air 8 in. Widespread 2-Handle Bathroom Fau...</td>\n",
       "      <td>Bel-Air</td>\n",
       "      <td>0</td>\n",
       "      <td>7</td>\n",
       "      <td>bel - air</td>\n",
       "      <td>False</td>\n",
       "    </tr>\n",
       "    <tr>\n",
       "      <th>16159</th>\n",
       "      <td>313232069</td>\n",
       "      <td>Metris S Single Hole 1-Handle Mid-Arc Bathroom...</td>\n",
       "      <td>Metris</td>\n",
       "      <td>0</td>\n",
       "      <td>6</td>\n",
       "      <td>metris s</td>\n",
       "      <td>False</td>\n",
       "    </tr>\n",
       "    <tr>\n",
       "      <th>1707</th>\n",
       "      <td>204214465</td>\n",
       "      <td>1-Spray Eco-Performance 2 in. Single Wall Moun...</td>\n",
       "      <td>Eco-Performance</td>\n",
       "      <td>8</td>\n",
       "      <td>23</td>\n",
       "      <td>eco - performance</td>\n",
       "      <td>False</td>\n",
       "    </tr>\n",
       "  </tbody>\n",
       "</table>\n",
       "<p>112 rows × 7 columns</p>\n",
       "</div>"
      ],
      "text/plain": [
       "           omsid                                       product_name  \\\n",
       "11781  203095371  Iron/Tones Drop-In/Undermount Cast-Iron 17 in....   \n",
       "106    303404502  Enbrighten Z-Wave Plus In-Wall 1000W Smart Dimmer   \n",
       "22975  313966201  Bel-Air 8 in. Widespread 2-Handle Bathroom Fau...   \n",
       "26594  306778317  Studio S Single-Handle Single Hole Vessel Bath...   \n",
       "7580   206665129  Pax Zero-Radius 22.5in. 16 Gauge Undermount Si...   \n",
       "...          ...                                                ...   \n",
       "11777  203095380  Iron/Tones Drop-In/Undermount Cast-Iron 24 in....   \n",
       "17015  315709525  Richard White Ceramic 33.27 in. Double Bowl Fa...   \n",
       "22972  313966233  Bel-Air 8 in. Widespread 2-Handle Bathroom Fau...   \n",
       "16159  313232069  Metris S Single Hole 1-Handle Mid-Arc Bathroom...   \n",
       "1707   204214465  1-Spray Eco-Performance 2 in. Single Wall Moun...   \n",
       "\n",
       "                                             series_name answer_start  \\\n",
       "11781                                         Iron/Tones            0   \n",
       "106                                          Z-Wave Plus           11   \n",
       "22975                                            Bel-Air            0   \n",
       "26594                                           Studio S            0   \n",
       "7580                                     Pax Zero-Radius            0   \n",
       "...                                                  ...          ...   \n",
       "11777                                         Iron/Tones            0   \n",
       "17015  Richard White Ceramic 33.27 in. Double Bowl Fa...            0   \n",
       "22972                                            Bel-Air            0   \n",
       "16159                                             Metris            0   \n",
       "1707                                     Eco-Performance            8   \n",
       "\n",
       "      answer_end                                   series_name_pred  agreement  \n",
       "11781         10                                       iron / tones      False  \n",
       "106           22                                      z - wave plus      False  \n",
       "22975          7                                          bel - air      False  \n",
       "26594          8                                             studio      False  \n",
       "7580          15                                  pax zero - radius      False  \n",
       "...          ...                                                ...        ...  \n",
       "11777         10                                       iron / tones      False  \n",
       "17015         84  richard white ceramic 33. 27 in. double bowl f...      False  \n",
       "22972          7                                          bel - air      False  \n",
       "16159          6                                           metris s      False  \n",
       "1707          23                                  eco - performance      False  \n",
       "\n",
       "[112 rows x 7 columns]"
      ]
     },
     "execution_count": 114,
     "metadata": {},
     "output_type": "execute_result"
    }
   ],
   "source": [
    "## see some wrong cases\n",
    "test.loc[test.loc[:,'agreement']==False]"
   ]
  },
  {
   "cell_type": "markdown",
   "id": "0d810369-3fa0-445f-9d56-ec6f9006bba8",
   "metadata": {},
   "source": [
    "For out of sample data sets"
   ]
  },
  {
   "cell_type": "code",
   "execution_count": null,
   "id": "50670304-6a75-4077-8bdc-4bec5fa06c83",
   "metadata": {},
   "outputs": [],
   "source": [
    "## evaluate out of sample testing set\n",
    "from transformers import DistilBertTokenizerFast\n",
    "tokenizer = DistilBertTokenizerFast.from_pretrained('distilbert-base-uncased')\n",
    "val_encodings = tokenizer(test_oos_contexts, test_oos_questions, truncation=True, padding=True)\n",
    "\n",
    "val_dataset = SquadDataset(val_encodings)"
   ]
  },
  {
   "cell_type": "code",
   "execution_count": null,
   "id": "4342c5be-0285-4257-9939-bb5c27dbe591",
   "metadata": {},
   "outputs": [],
   "source": [
    "# switch model out of training mode\n",
    "model.to(device)\n",
    "model.eval()\n",
    "device = torch.device('cuda') if torch.cuda.is_available() else torch.device('cpu')\n",
    "\n",
    "# initialize validation set data loader\n",
    "val_loader = DataLoader(val_dataset, batch_size=16)\n",
    "# initialize list to store accuracies\n",
    "acc = []\n",
    "# loop through batches\n",
    "all_preds, all_truths = [],[]\n",
    "for batch in val_loader:\n",
    "    # we don't need to calculate gradients as we're not training\n",
    "    with torch.no_grad():\n",
    "        # pull batched items from loader\n",
    "        input_ids = batch['input_ids'].to(device)\n",
    "        attention_mask = batch['attention_mask'].to(device)\n",
    "        # we will use true positions for accuracy calc\n",
    "        # start_true = batch['start_positions'].to(device)\n",
    "        # end_true = batch['end_positions'].to(device)\n",
    "        # truth_batch = batch['true_aws']\n",
    "        # make predictions\n",
    "        outputs = model(input_ids, attention_mask=attention_mask)\n",
    "        # pull prediction tensors out and argmax to get predicted tokens\n",
    "        start_pred = torch.argmax(outputs['start_logits'], dim=1)\n",
    "        end_pred = torch.argmax(outputs['end_logits'], dim=1)\n",
    "        # calculate accuracy for both and append to accuracy list\n",
    "        # acc.append(((start_pred == start_true).sum()/len(start_pred)).item())\n",
    "        # acc.append(((end_pred == end_true).sum()/len(end_pred)).item())\n",
    "        pred_answer_batch = [ tokenizer.convert_tokens_to_string(tokenizer.convert_ids_to_tokens(input_ids[x][start_pred[x]:end_pred[x]+1])) for x in range(input_ids.shape[0])]\n",
    "        # true_answer_batch = [ tokenizer.convert_tokens_to_string(tokenizer.convert_ids_to_tokens(input_ids[x][start_true[x]:end_true[x]+1])) for x in range(input_ids.shape[0])]\n",
    "        all_preds.extend(pred_answer_batch)\n",
    "        # all_truths.extend(truth_batch)\n",
    "# calculate average accuracy in total\n",
    "# acc = sum(acc)/len(acc)"
   ]
  },
  {
   "cell_type": "code",
   "execution_count": 92,
   "id": "4b154930-41ed-438c-8c7a-cd306cfec69e",
   "metadata": {},
   "outputs": [
    {
     "name": "stdout",
     "output_type": "stream",
     "text": [
      "0.0549013367281986\n"
     ]
    }
   ],
   "source": [
    "counter = 0\n",
    "for i, pred in enumerate(all_preds):\n",
    "    if pred == myData_oos.series_name.values[i].lower():\n",
    "        # print(pred,\"++++\", myData_oos.series_name.values[i].lower())\n",
    "        counter+=1\n",
    "print(counter/len(all_preds))"
   ]
  },
  {
   "cell_type": "code",
   "execution_count": 60,
   "id": "233dd4c5-dbd7-4fc8-9da8-156fe06293cb",
   "metadata": {},
   "outputs": [
    {
     "data": {
      "text/plain": [
       "0.0549013367281986"
      ]
     },
     "execution_count": 60,
     "metadata": {},
     "output_type": "execute_result"
    }
   ],
   "source": [
    "np.sum(list(map(lambda x:x.lower(),myData_oos.series_name.values)) == np.array(all_preds))/len(all_preds)"
   ]
  },
  {
   "cell_type": "code",
   "execution_count": 160,
   "id": "f4cebe17-e752-4d10-9bac-0a77d6fe690b",
   "metadata": {},
   "outputs": [
    {
     "data": {
      "text/plain": [
       "('distilbert-custom/tokenizer_config.json',\n",
       " 'distilbert-custom/special_tokens_map.json',\n",
       " 'distilbert-custom/vocab.txt',\n",
       " 'distilbert-custom/added_tokens.json',\n",
       " 'distilbert-custom/tokenizer.json')"
      ]
     },
     "execution_count": 160,
     "metadata": {},
     "output_type": "execute_result"
    }
   ],
   "source": [
    "## how to save model\n",
    "model_path = \"distilbert-custom/\"\n",
    "model.save_pretrained(model_path)\n",
    "tokenizer.save_pretrained(model_path)"
   ]
  },
  {
   "cell_type": "code",
   "execution_count": 20,
   "id": "2af95960-7f4a-418e-8cb1-268d51fc747a",
   "metadata": {},
   "outputs": [],
   "source": [
    "## how to load pretrained models...\n",
    "model_path = 'distilbert-custom/'\n",
    "model = DistilBertForQuestionAnswering.from_pretrained(model_path)\n",
    "tokenizer = DistilBertTokenizerFast.from_pretrained(model_path)"
   ]
  },
  {
   "cell_type": "code",
   "execution_count": 197,
   "id": "349bbc4a-a743-456a-9797-fccc7499ba9e",
   "metadata": {},
   "outputs": [],
   "source": [
    "test.loc[:,'naive'] = test['product_name'].apply(lambda x: x.split()[0].lower())\n",
    "test.loc[:,'series_name_lower'] = test['series_name'].apply(lambda x: x.lower())"
   ]
  },
  {
   "cell_type": "code",
   "execution_count": 201,
   "id": "33208851-6d68-481b-b98d-79b14af90e52",
   "metadata": {},
   "outputs": [
    {
     "data": {
      "text/plain": [
       "0.8179098097884163"
      ]
     },
     "execution_count": 201,
     "metadata": {},
     "output_type": "execute_result"
    }
   ],
   "source": [
    "## naive approach, using first word of title as the series name...\n",
    "## accuracy around 81%, which indicates the model did learn something non-trivial...\n",
    "np.sum(np.array(test.series_name_lower.values) == np.array(test.naive.values))/len(all_preds)"
   ]
  },
  {
   "cell_type": "code",
   "execution_count": null,
   "id": "3ca5e27b-4a2e-40c1-955a-8ea5e1c5152a",
   "metadata": {},
   "outputs": [],
   "source": []
  },
  {
   "cell_type": "code",
   "execution_count": null,
   "id": "5508a9ba-3fba-4109-a34c-ac8911195445",
   "metadata": {},
   "outputs": [],
   "source": []
  },
  {
   "cell_type": "code",
   "execution_count": null,
   "id": "84c0c9f9-2cbb-47af-9199-a6633b054696",
   "metadata": {},
   "outputs": [],
   "source": []
  }
 ],
 "metadata": {
  "environment": {
   "kernel": "conda-root-py",
   "name": "common-cu110.m87",
   "type": "gcloud",
   "uri": "gcr.io/deeplearning-platform-release/base-cu110:m87"
  },
  "kernelspec": {
   "display_name": "Python [conda env:root] *",
   "language": "python",
   "name": "conda-root-py"
  },
  "language_info": {
   "codemirror_mode": {
    "name": "ipython",
    "version": 3
   },
   "file_extension": ".py",
   "mimetype": "text/x-python",
   "name": "python",
   "nbconvert_exporter": "python",
   "pygments_lexer": "ipython3",
   "version": "3.7.12"
  }
 },
 "nbformat": 4,
 "nbformat_minor": 5
}
